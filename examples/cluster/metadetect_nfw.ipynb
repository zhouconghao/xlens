{
 "cells": [
  {
   "cell_type": "code",
   "execution_count": 5,
   "metadata": {},
   "outputs": [
    {
     "name": "stdout",
     "output_type": "stream",
     "text": [
      "%pylab is deprecated, use %matplotlib inline and import the required libraries.\n",
      "Populating the interactive namespace from numpy and matplotlib\n"
     ]
    }
   ],
   "source": [
    "%pylab inline\n",
    "%reload_ext autoreload\n",
    "%autoreload 2\n",
    "\n",
    "import os\n",
    "\n",
    "import astropy.table as astable\n",
    "import fitsio"
   ]
  },
  {
   "cell_type": "code",
   "execution_count": 6,
   "metadata": {},
   "outputs": [],
   "source": [
    "# Prepare a halo\n",
    "src_halo = astable.Table()\n",
    "src_halo[\"index\"] = np.array([1, 2])\n",
    "src_halo[\"mass\"] = np.array([3e14, 8e14])\n",
    "src_halo[\"conc\"] = np.array([6.0, 4.0])\n",
    "src_halo[\"z_lens\"] = np.array([0.2, 0.52])"
   ]
  },
  {
   "cell_type": "code",
   "execution_count": 7,
   "metadata": {},
   "outputs": [
    {
     "name": "stdout",
     "output_type": "stream",
     "text": [
      "Simulating for field: 1, and halo index 1\n",
      "Simulation has galaxies: 1459\n"
     ]
    }
   ],
   "source": [
    "config_fname = \"./config.ini\"\n",
    "from xlens.simulation.simulator.base import SimulateImageHalo\n",
    "\n",
    "# need the optional simulation catalog\n",
    "# see the documentation at https://github.com/LSSTDESC/descwl-shear-sims\n",
    "os.environ[\"CATSIM_DIR\"] = \"/global/cfs/cdirs/des/zhou/swirl/data/catsim\"\n",
    "simulator = SimulateImageHalo(config_fname)\n",
    "simulator.run(ifield=1, src_halo=src_halo[0])"
   ]
  },
  {
   "cell_type": "code",
   "execution_count": 13,
   "metadata": {},
   "outputs": [],
   "source": [
    "from xlens.simulation.measure import ProcessSimMetadetect"
   ]
  },
  {
   "cell_type": "code",
   "execution_count": null,
   "metadata": {},
   "outputs": [],
   "source": [
    "# from xlens.simulation.measure import ProcessSimFpfs\n",
    "\n",
    "# processor = ProcessSimFpfs(config_fname)\n",
    "# image_fname = \"./sim/image-00001_nfw-001_rot0_r.fits\"\n",
    "# data = processor.prepare_data(image_fname)\n",
    "\n",
    "# from astropy.visualization import simple_norm\n",
    "\n",
    "# gal_array = data[\"gal_array\"]"
   ]
  }
 ],
 "metadata": {
  "kernelspec": {
   "display_name": "base",
   "language": "python",
   "name": "python3"
  },
  "language_info": {
   "codemirror_mode": {
    "name": "ipython",
    "version": 3
   },
   "file_extension": ".py",
   "mimetype": "text/x-python",
   "name": "python",
   "nbconvert_exporter": "python",
   "pygments_lexer": "ipython3",
   "version": "3.11.9"
  }
 },
 "nbformat": 4,
 "nbformat_minor": 2
}
