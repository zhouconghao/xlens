{
 "cells": [
  {
   "cell_type": "code",
   "execution_count": 12,
   "metadata": {},
   "outputs": [
    {
     "name": "stdout",
     "output_type": "stream",
     "text": [
      "%pylab is deprecated, use %matplotlib inline and import the required libraries.\n",
      "Populating the interactive namespace from numpy and matplotlib\n"
     ]
    }
   ],
   "source": [
    "%pylab inline\n",
    "%reload_ext autoreload\n",
    "%autoreload 2\n",
    "\n",
    "import os\n",
    "\n",
    "import numpy as np\n",
    "import astropy.table as astable\n",
    "import fitsio"
   ]
  },
  {
   "cell_type": "code",
   "execution_count": 13,
   "metadata": {},
   "outputs": [],
   "source": [
    "# Prepare a halo\n",
    "src_halo = astable.Table()\n",
    "src_halo[\"index\"] = np.array([1, 2])\n",
    "src_halo[\"mass\"] = np.array([3e14, 8e14])\n",
    "src_halo[\"conc\"] = np.array([6.0, 4.0])\n",
    "src_halo[\"z_lens\"] = np.array([0.2, 0.52])"
   ]
  },
  {
   "cell_type": "code",
   "execution_count": 14,
   "metadata": {},
   "outputs": [
    {
     "name": "stdout",
     "output_type": "stream",
     "text": [
      "Simulating for field: 1, and halo index 1\n",
      "Simulation has galaxies: 1459\n"
     ]
    }
   ],
   "source": [
    "config_fname = \"./config.ini\"\n",
    "from xlens.simulation.simulator.base import SimulateImageHalo\n",
    "\n",
    "# need the optional simulation catalog\n",
    "# see the documentation at https://github.com/LSSTDESC/descwl-shear-sims\n",
    "os.environ[\"CATSIM_DIR\"] = \"/global/cfs/cdirs/des/zhou/swirl/data/catsim\"\n",
    "simulator = SimulateImageHalo(config_fname)\n",
    "simulator.run(ifield=1, src_halo=src_halo[0])"
   ]
  },
  {
   "cell_type": "code",
   "execution_count": 15,
   "metadata": {},
   "outputs": [
    {
     "data": {
      "text/plain": [
       "['/global/cfs/cdirs/des/zhou/swirl/forked_repos/xlens/examples/cluster/config.ini']"
      ]
     },
     "execution_count": 15,
     "metadata": {},
     "output_type": "execute_result"
    }
   ],
   "source": [
    "from configparser import ConfigParser, ExtendedInterpolation\n",
    "\n",
    "config_name = \"/global/cfs/cdirs/des/zhou/swirl/forked_repos/xlens/examples/cluster/config.ini\"\n",
    "\n",
    "cparser = ConfigParser(interpolation=ExtendedInterpolation())\n",
    "cparser.read(config_name)"
   ]
  },
  {
   "cell_type": "code",
   "execution_count": 16,
   "metadata": {},
   "outputs": [],
   "source": [
    "from xlens.simulation.measure import ProcessSimMetadetect\n",
    "\n",
    "processor = ProcessSimMetadetect(config_fname)"
   ]
  },
  {
   "cell_type": "code",
   "execution_count": 17,
   "metadata": {},
   "outputs": [
    {
     "name": "stdout",
     "output_type": "stream",
     "text": [
      "reading r band\n",
      "Using noisy setup with std: 0.37\n",
      "The random seed is 6393\n",
      "Simulated noise STD is: 0.37\n",
      "The final noise variance is 0.37\n"
     ]
    }
   ],
   "source": [
    "image_fname = \"./sim/image-00001_nfw-001_rot0_r.fits\"\n",
    "data = processor.prepare_data(image_fname)"
   ]
  },
  {
   "cell_type": "code",
   "execution_count": 18,
   "metadata": {},
   "outputs": [],
   "source": [
    "pixel_scale = 0.2\n",
    "noise_variance = 0.37\n",
    "gal_array = data[\"gal_array\"]\n",
    "psf_array = data[\"psf_array\"]\n",
    "pixel_scale = pixel_scale\n",
    "noise_variance = noise_variance\n",
    "noise_array = data[\"noise_array\"]"
   ]
  },
  {
   "cell_type": "code",
   "execution_count": 19,
   "metadata": {},
   "outputs": [],
   "source": [
    "# from xlens.simulation.measure import ProcessSimFpfs\n",
    "\n",
    "# processor = ProcessSimFpfs(config_fname)\n",
    "# image_fname = \"./sim/image-00001_nfw-001_rot0_r.fits\"\n",
    "# data = processor.prepare_data(image_fname)\n",
    "\n",
    "# from astropy.visualization import simple_norm\n",
    "\n",
    "# gal_array = data[\"gal_array\"]"
   ]
  }
 ],
 "metadata": {
  "kernelspec": {
   "display_name": "base",
   "language": "python",
   "name": "python3"
  },
  "language_info": {
   "codemirror_mode": {
    "name": "ipython",
    "version": 3
   },
   "file_extension": ".py",
   "mimetype": "text/x-python",
   "name": "python",
   "nbconvert_exporter": "python",
   "pygments_lexer": "ipython3",
   "version": "3.11.9"
  }
 },
 "nbformat": 4,
 "nbformat_minor": 2
}
